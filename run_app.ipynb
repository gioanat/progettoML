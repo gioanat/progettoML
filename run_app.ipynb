{
  "nbformat": 4,
  "nbformat_minor": 0,
  "metadata": {
    "accelerator": "TPU",
    "colab": {
      "name": "run_app.ipynb",
      "provenance": [],
      "collapsed_sections": []
    },
    "kernelspec": {
      "display_name": "Python 3",
      "name": "python3"
    },
    "language_info": {
      "name": "python"
    }
  },
  "cells": [
    {
      "cell_type": "code",
      "metadata": {
        "id": "0woQaQfMXcQ_"
      },
      "source": [
        "rm -r progettoML\n",
        "from IPython.display import clear_output\n",
        "!pip3 install sentencepiece\n",
        "!pip3 install transformers\n",
        "!pip3 install pytorch_pretrained_bert\n",
        "!pip install ekphrasis\n",
        "!wget https://raw.githubusercontent.com/marcopoli/AlBERTo-it/master/vocab.txt\n",
        "!git clone https://github.com/gioanat/progettoML\n",
        "clear_output()\n",
        "\n",
        "#!ln -ls progettoML/generate_utils.py generate_utils.oy # if import does not work\n",
        "from progettoML.generate_utils import GenerateHints\n",
        "from progettoML.generate_utils import parse_hashtags, AlBERTo_Preprocessing\n",
        "obj = GenerateHints()\n",
        "clear_output()"
      ],
      "execution_count": 1,
      "outputs": []
    },
    {
      "cell_type": "code",
      "metadata": {
        "colab": {
          "base_uri": "https://localhost:8080/"
        },
        "id": "kvzJ1mOb2gRS",
        "outputId": "48b2134e-c989-48a8-8695-ca5f59e545ed"
      },
      "source": [
        "def run_server():\n",
        "  import os\n",
        "  os.system('wget https://bin.equinox.io/c/4VmDzA7iaHb/ngrok-stable-linux-amd64.zip')\n",
        "  os.system('unzip ngrok-stable-linux-amd64.zip')\n",
        "  os.system('tensorboard --logdir /content/trainingdata/objectdetection/ckpt_output/trainingImatges/ --host 0.0.0.0 --port 6006 &')\n",
        "  os.system('./ngrok http 6006 &')\n",
        "\n",
        "  #!wget https://bin.equinox.io/c/4VmDzA7iaHb/ngrok-stable-linux-amd64.zip\n",
        "  #!unzip ngrok-stable-linux-amd64.zip\n",
        "  #get_ipython().system_raw('tensorboard --logdir /content/trainingdata/objectdetection/ckpt_output/trainingImatges/ --host 0.0.0.0 --port 6006 &')\n",
        "  #get_ipython().system_raw('./ngrok http 6006 &')\n",
        "\n",
        "  #!curl -s http://localhost:4040/api/tunnels | python3 -c \"import sys, json; print(json.load(sys.stdin)['tunnels'][0]['public_url'])\"\n",
        "  import subprocess\n",
        "  output = None\n",
        "  while output is None:\n",
        "    try:\n",
        "      output = subprocess.check_output('curl -s http://localhost:4040/api/tunnels | python3 -c \"import sys, json; print(json.load(sys.stdin)[\\'tunnels\\'][0][\\'public_url\\'])\"', shell=True)\n",
        "      print(output.decode('utf-8'))\n",
        "    except:\n",
        "      print(\"Retrying..\")\n",
        "\n",
        "#!wget https://bin.equinox.io/c/4VmDzA7iaHb/ngrok-stable-linux-amd64.zip\n",
        "#!unzip ngrok-stable-linux-amd64.zip\n",
        "print(\"Inserisci l'url nell'applicazione ed esegui la cella sottostante:\")\n",
        "run_server()"
      ],
      "execution_count": 8,
      "outputs": [
        {
          "output_type": "stream",
          "text": [
            "Retrying..\n",
            "https://a77b8be1122e.ngrok.io\n",
            "\n"
          ],
          "name": "stdout"
        }
      ]
    },
    {
      "cell_type": "code",
      "metadata": {
        "colab": {
          "base_uri": "https://localhost:8080/"
        },
        "id": "LlTXAd7q2g0T",
        "outputId": "8d3f5bd1-2ada-4c35-c478-878f63929ae2"
      },
      "source": [
        "from flask import Flask, request, jsonify\n",
        "from werkzeug.wrappers import Request, Response\n",
        "app = Flask(__name__)\n",
        "\n",
        "@app.route(\"/\", methods=['GET'])\n",
        "def health_check():\n",
        "  return \"OK\"\n",
        "\n",
        "@app.route(\"/lang\", methods=['POST'])\n",
        "def set_lang():\n",
        "  data = request.get_json()['language']\n",
        "  isItalian = data == 'it'\n",
        "  print(\"Language set to\", data, isItalian)\n",
        "  set_language(isItalian)\n",
        "  return \"OK\"\n",
        "\n",
        "@app.route(\"/\", methods=['POST'])\n",
        "def hello():\n",
        "  data = request.get_json()\n",
        "  if data['whoami'] == 'Gioana':\n",
        "      return \"Ti amo tanto ❤️\"\n",
        "  return \"Chi sei?\"\n",
        "\n",
        "@app.route(\"/generateTweets\", methods=['POST'])\n",
        "def generate_tweets():\n",
        "  seed = request.get_json()['seed']\n",
        "  ## Aggiungere parole\n",
        "  phrases = obj.generate_phrase(seed, num_phrase = 3)\n",
        "  return jsonify([parse_hashtags(phrase) for phrase in phrases])\n",
        "\n",
        "@app.route(\"/generateWords\", methods=['POST'])\n",
        "def generate_response_hints():\n",
        "  seed = request.get_json()['seed']\n",
        "  hints = obj.generate_hints(seed, num_hints = 3)\n",
        "  return jsonify(hints)\n",
        "\n",
        "@app.route(\"/translate\", methods=['POST'])\n",
        "def translate():\n",
        "  seed = request.get_json()['seed']\n",
        "  a = AlBERTo_Preprocessing(do_lower_case=True)\n",
        "  b = a.preprocess(seed)\n",
        "  new_text = obj.traslated_funct(b)\n",
        "  return parse_hashtags(new_text)\n",
        "\n",
        "from werkzeug.serving import run_simple\n",
        "run_simple('localhost', 6006, app)"
      ],
      "execution_count": 10,
      "outputs": [
        {
          "output_type": "stream",
          "text": [
            " * Running on http://localhost:6006/ (Press CTRL+C to quit)\n"
          ],
          "name": "stderr"
        }
      ]
    }
  ]
}
