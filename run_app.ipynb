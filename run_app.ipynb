{
  "nbformat": 4,
  "nbformat_minor": 0,
  "metadata": {
    "accelerator": "TPU",
    "colab": {
      "name": "run_app.ipynb",
      "provenance": [],
      "collapsed_sections": []
    },
    "kernelspec": {
      "display_name": "Python 3",
      "name": "python3"
    },
    "language_info": {
      "name": "python"
    }
  },
  "cells": [
    {
      "cell_type": "code",
      "metadata": {
        "id": "0woQaQfMXcQ_"
      },
      "source": [
        "from IPython.display import clear_output\n",
        "!pip3 install sentencepiece\n",
        "!pip3 install transformers\n",
        "!pip3 install pytorch_pretrained_bert\n",
        "!pip install ekphrasis\n",
        "!wget https://raw.githubusercontent.com/marcopoli/AlBERTo-it/master/vocab.txt\n",
        "!git clone https://github.com/gioanat/progettoML\n",
        "clear_output()\n",
        "\n",
        "#!ln -ls progettoML/generate_utils.py generate_utils.oy # if import does not work\n",
        "from progettoML.generate_utils import GenerateHints\n",
        "from progettoML.generate_utils import parse_hashtags, AlBERTo_Preprocessing\n",
        "obj = GenerateHints()\n",
        "clear_output()"
      ],
      "execution_count": 2,
      "outputs": []
    },
    {
      "cell_type": "code",
      "metadata": {
        "colab": {
          "base_uri": "https://localhost:8080/"
        },
        "id": "kvzJ1mOb2gRS",
        "outputId": "46d3e88e-f7c3-45ef-f221-83aad7867512"
      },
      "source": [
        "def run_server():\n",
        "  import os\n",
        "  os.system('wget https://bin.equinox.io/c/4VmDzA7iaHb/ngrok-stable-linux-amd64.zip')\n",
        "  os.system('unzip ngrok-stable-linux-amd64.zip')\n",
        "  os.system('tensorboard --logdir /content/trainingdata/objectdetection/ckpt_output/trainingImatges/ --host 0.0.0.0 --port 6006 &')\n",
        "  os.system('./ngrok http 6006 &')\n",
        "\n",
        "  import subprocess\n",
        "  output = None\n",
        "  while output is None:\n",
        "    try:\n",
        "      output = subprocess.check_output('curl -s http://localhost:4040/api/tunnels | python3 -c \"import sys, json; print(json.load(sys.stdin)[\\'tunnels\\'][0][\\'public_url\\'])\"', shell=True)\n",
        "      print(output.decode('utf-8'))\n",
        "    except:\n",
        "      print(\"Retrying..\")\n",
        "\n",
        "print(\"Inserisci l'url nell'applicazione ed esegui la cella sottostante:\")\n",
        "run_server()"
      ],
      "execution_count": 7,
      "outputs": [
        {
          "output_type": "stream",
          "text": [
            "Inserisci l'url nell'applicazione ed esegui la cella sottostante:\n",
            "http://0a9ef6e6c50c.ngrok.io\n",
            "\n"
          ],
          "name": "stdout"
        }
      ]
    },
    {
      "cell_type": "code",
      "metadata": {
        "colab": {
          "base_uri": "https://localhost:8080/"
        },
        "id": "LlTXAd7q2g0T",
        "outputId": "42610665-5964-4bea-8369-6d617c8676ab"
      },
      "source": [
        "from flask import Flask, request, jsonify\n",
        "from werkzeug.wrappers import Request, Response\n",
        "!pip install flask-cors\n",
        "from flask_cors import CORS\n",
        "\n",
        "app = Flask(__name__)\n",
        "CORS(app)\n",
        "\n",
        "@app.route(\"/\", methods=['GET'])\n",
        "def health_check():\n",
        "  return \"OK\"\n",
        "\n",
        "@app.route(\"/lang\", methods=['POST'])\n",
        "def set_lang():\n",
        "  data = request.get_json()['language']\n",
        "  isItalian = data == 'it'\n",
        "  print(\"Language set to\", data, isItalian)\n",
        "  set_language(isItalian)\n",
        "  return \"OK\"\n",
        "\n",
        "@app.route(\"/\", methods=['POST'])\n",
        "def hello():\n",
        "  data = request.get_json()\n",
        "  if data['whoami'] == 'Gioana':\n",
        "      return \"Ti amo tanto ❤️\"\n",
        "  return \"Chi sei?\"\n",
        "\n",
        "@app.route(\"/generateTweets\", methods=['POST'])\n",
        "def generate_tweets():\n",
        "  seed = request.get_json()['seed']\n",
        "  ## Aggiungere parole\n",
        "  phrases = obj.generate_phrase(seed, num_phrase = 3)\n",
        "  return jsonify([parse_hashtags(phrase) for phrase in phrases])\n",
        "\n",
        "@app.route(\"/generateWords\", methods=['POST'])\n",
        "def generate_response_hints():\n",
        "  seed = request.get_json()['seed']\n",
        "  hints = obj.generate_hints(seed, num_hints = 3)\n",
        "  return jsonify(hints)\n",
        "\n",
        "@app.route(\"/translate\", methods=['POST'])\n",
        "def translate():\n",
        "  seed = request.get_json()['seed']\n",
        "  a = AlBERTo_Preprocessing(do_lower_case=True)\n",
        "  b = a.preprocess(seed)\n",
        "  new_text = obj.traslated_funct(b)\n",
        "  return parse_hashtags(new_text)\n",
        "\n",
        "from werkzeug.serving import run_simple\n",
        "run_simple('localhost', 6006, app)"
      ],
      "execution_count": null,
      "outputs": [
        {
          "output_type": "stream",
          "text": [
            "Collecting flask-cors\n",
            "  Downloading https://files.pythonhosted.org/packages/db/84/901e700de86604b1c4ef4b57110d4e947c218b9997adf5d38fa7da493bce/Flask_Cors-3.0.10-py2.py3-none-any.whl\n",
            "Requirement already satisfied: Six in /usr/local/lib/python3.7/dist-packages (from flask-cors) (1.15.0)\n",
            "Requirement already satisfied: Flask>=0.9 in /usr/local/lib/python3.7/dist-packages (from flask-cors) (1.1.4)\n",
            "Requirement already satisfied: Werkzeug<2.0,>=0.15 in /usr/local/lib/python3.7/dist-packages (from Flask>=0.9->flask-cors) (1.0.1)\n",
            "Requirement already satisfied: Jinja2<3.0,>=2.10.1 in /usr/local/lib/python3.7/dist-packages (from Flask>=0.9->flask-cors) (2.11.3)\n",
            "Requirement already satisfied: click<8.0,>=5.1 in /usr/local/lib/python3.7/dist-packages (from Flask>=0.9->flask-cors) (7.1.2)\n",
            "Requirement already satisfied: itsdangerous<2.0,>=0.24 in /usr/local/lib/python3.7/dist-packages (from Flask>=0.9->flask-cors) (1.1.0)\n",
            "Requirement already satisfied: MarkupSafe>=0.23 in /usr/local/lib/python3.7/dist-packages (from Jinja2<3.0,>=2.10.1->Flask>=0.9->flask-cors) (2.0.1)\n",
            "Installing collected packages: flask-cors\n",
            "Successfully installed flask-cors-3.0.10\n"
          ],
          "name": "stdout"
        },
        {
          "output_type": "stream",
          "text": [
            " * Running on http://localhost:6006/ (Press CTRL+C to quit)\n",
            "127.0.0.1 - - [20/Jun/2021 13:22:49] \"\u001b[37mGET / HTTP/1.1\u001b[0m\" 200 -\n",
            "127.0.0.1 - - [20/Jun/2021 13:22:53] \"\u001b[37mGET / HTTP/1.1\u001b[0m\" 200 -\n",
            "127.0.0.1 - - [20/Jun/2021 13:22:56] \"\u001b[37mOPTIONS /generateTweets HTTP/1.1\u001b[0m\" 200 -\n"
          ],
          "name": "stderr"
        },
        {
          "output_type": "stream",
          "text": [
            "ciao\n",
            "Batch 0\n",
            "Batch 1\n",
            "Batch 2\n"
          ],
          "name": "stdout"
        },
        {
          "output_type": "stream",
          "text": [
            "127.0.0.1 - - [20/Jun/2021 13:23:31] \"\u001b[37mPOST /generateTweets HTTP/1.1\u001b[0m\" 200 -\n"
          ],
          "name": "stderr"
        },
        {
          "output_type": "stream",
          "text": [
            "Finished batch 1 in 35.319s\n",
            "['[CLS]', 'ciao', 'vita', 'bella', 'by', 'max', '##la', 'tu', 'sei', 'una', 'di', '##ne', 'i', 'la', 'l', '?']\n",
            "['[CLS]', 'ciao', 'tu', 'milano', 'a', 'mi', 'mia', 'mamma', 'el', '##u', 'l', 'mio', 'futuro', 'sei', 'tu', 'mi', 'stai', 'distruggendo', 'il', 'cuore', '<', 'ur', '##l', '>', 'la', 'voglia', 'di', 'un', 'buon', 'inizio', 'a', 'settimana', 'prima', 'della', 'partita', 'e', 'tanta', '!']\n",
            "['[CLS]', 'ciao', 'son', 'tutti', '/', 'me', 'le', '##le', 'la', 'mia', 'ragazza', 'el', '##a', 'il', 'la', '##n', 'el', '##a', 'il', '##e', 'al', '##o', 'e', 'una', 'delle', 'piu', 'belle', 'ragazze', 'anche', 'loro', '<', 'us', '##er', '>', 'grazie', 'a', 'tee', 'e', 'buona', 'giornata', 'a', 'presto', '[SEP]']\n"
          ],
          "name": "stdout"
        }
      ]
    }
  ]
}
